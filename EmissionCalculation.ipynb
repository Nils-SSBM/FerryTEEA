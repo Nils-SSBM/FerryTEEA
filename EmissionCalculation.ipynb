{
 "cells": [
  {
   "cell_type": "code",
   "execution_count": 130,
   "id": "a051cf08",
   "metadata": {
    "scrolled": true
   },
   "outputs": [],
   "source": [
    "import numpy as np\n",
    "from matplotlib import pyplot as plt\n",
    "\n",
    "FC = 35 #liter / hour\n",
    "MK1_density = 0.815 #kg / liter\n",
    "P_cons = 110 #kWh / hour\n",
    "P_consICE = (83.6 / 0.95 / 0.9 / 0.8) #122.2 kWh / hour\n",
    "\n",
    "t_b = 10 #years, battery lifetime\n",
    "t_f = 25 #years, ferry lifetime\n",
    "\n",
    "#Energimyndigheten, 2021 values:\n",
    "CO2 = 2580 #g CO2 eq. / liter\n",
    "HVO = 520  #g CO2 eq. / liter\n",
    "MK1_hv = 35.3 #MJ / liter, heat value\n",
    "#SMED, 2020 values:\n",
    "SO2 = 36.0 #g / GJ\n",
    "PM = 0.27  #g / GJ\n",
    "\n",
    "#Electricity mix:\n",
    "CO2_e = 30 #g CO2 eq. / kWh\n",
    "\n",
    "#Battery production:\n",
    "CO2_battery = 240 #kg CO2 eq. / kWh\n",
    "\n",
    "#Engine production:\n",
    "CO2_engine = 37.75 #kg CO2 eq. / kW\n",
    "kW_engine = 257\n",
    "\n",
    "#Electric motor production:\n",
    "CO2_motor = 19.6 #kg CO2 eq. / kW, assumed same kW as engines\n",
    "\n",
    "#MGO production:\n",
    "CO2_fuel = 12.5 #kg CO2 eq. / MJ\n",
    "\n",
    "#If one is interested:\n",
    "sfoc = 1000 * (FC * MK1_density) / P_cons #g / kWh\n",
    "#print(sfoc) \n",
    "\n",
    "#ELVY AND ELOISE: 1 x SCANIA DI13 257 kW Tier III\n",
    "#ÄLVELI AND ÄLVFRIDA: 2 x SCANIA DI09 257 kW Tier II\n"
   ]
  },
  {
   "cell_type": "code",
   "execution_count": 131,
   "id": "5acf5945",
   "metadata": {},
   "outputs": [],
   "source": [
    "#IMO Regulation 13:\n",
    "CO2_diesel = np.zeros(4)\n",
    "CO2_electricMotorProd = np.zeros(4)\n",
    "CO2_electricity = np.zeros(4)\n",
    "CO2_batteryProd = np.zeros(4)\n",
    "CO2_engineProd = np.zeros(4)\n",
    "CO2_fuelProd = np.zeros(4)\n",
    "\n",
    "def TierII_NOX(rpm):\n",
    "    return 44*pow(rpm,-0.23) #g / kWh\n",
    "\n",
    "def TierIII_NOX(rpm):\n",
    "    return 9*pow(rpm,-0.2)\n",
    "\n",
    "#CO2, SO2 and PM functions:\n",
    "\n",
    "def CO2_calc(t_op, e_f, q):\n",
    "    \n",
    "    #q acts as an index. A different value is stored for each ferry\n",
    "    CO2_diesel[q] = CO2 * FC * t_op * (1 - e_f)  #Diesel part\n",
    "    CO2_electricity[q] = CO2_e * P_cons * t_op * e_f #Electricity part\n",
    "    CO2_ret = CO2_diesel[q] + CO2_electricity[q]\n",
    "    \n",
    "    return CO2_ret\n",
    "\n",
    "def SO2_calc(t_op, e_f):\n",
    "    SO2_ret = SO2 * FC * (MK1_hv / 1000) * t_op * (1 - e_f)\n",
    "    return SO2_ret\n",
    "                                    \n",
    "def PM_calc(t_op, e_f):\n",
    "    PM_ret = PM * FC * (MK1_hv / 1000) * t_op * (1 - e_f)\n",
    "    return PM_ret \n",
    "                                              \n",
    "def emissionCalc(t_op, e_f, tier, rpm, q): \n",
    "    \n",
    "    CO2_result = CO2_calc(t_op, e_f, q)\n",
    "    SO2_result = SO2_calc(t_op, e_f)\n",
    "    PM_result = PM_calc(t_op, e_f)\n",
    "    \n",
    "    #NOx emissions:        \n",
    "    if tier == 2:\n",
    "        NOX_result = TierII_NOX(rpm) * P_consICE * t_op * (1 - e_f)\n",
    "    elif tier == 3:\n",
    "        NOX_result = TierIII_NOX(rpm) * P_consICE * t_op * (1 - e_f)\n",
    "    else:\n",
    "        print(\"Incompatible tier\")\n",
    "      \n",
    "    return [CO2_result, NOX_result, SO2_result, PM_result]\n",
    "\n",
    "def summary4(f1,f2,f3,f4):\n",
    "    \n",
    "    res = np.array([f1, f2, f3, f4]) / 1000\n",
    "    res = res.sum(axis=0)\n",
    "    \n",
    "    print(\"GHGs: \" + str(f'{res[0]:.5f}'))\n",
    "    print(\"NOx: \" + str(f'{res[1]:.5f}'))\n",
    "    print(\"SOx: \" + str(f'{res[2]:.5f}'))\n",
    "    print(\"PM: \" + str(f'{res[3]:.5f}'))\n",
    "    \n",
    "    return res\n",
    "\n",
    "def summary5(f1,f2,f3,f4,f5):\n",
    "   \n",
    "    res = np.array([f1,f2,f3,f4,f5]) / 1000\n",
    "    res = res.sum(axis=0)\n",
    "    \n",
    "    print(\"GHGs: \" + str(f'{res[0]:.5f}'))\n",
    "    print(\"NOx: \" + str(f'{res[1]:.5f}'))\n",
    "    print(\"SO2: \" + str(f'{res[2]:.5f}'))\n",
    "    print(\"PM: \" + str(f'{res[3]:.5f}'))\n",
    "    \n",
    "    return res\n",
    "    \n",
    "def upstreamCalc(f, kWh_init, kWh, kW, t_op, e_f, q):\n",
    "    \n",
    "\n",
    "    CO2_batteryProd[q] = (CO2_battery * (kWh_init + (kWh * (t_f / t_b)))) / (t_f * 365) * 1000 #Battery production\n",
    "    CO2_engineProd[q] = ((CO2_engine * kW) / (t_f * 365)) * 1000   #Engine production\n",
    "    CO2_electricMotorProd[q] = ((2 * kW_engine * CO2_motor) / (t_f * 365)) * 1000           #Electric motor production\n",
    "    CO2_fuelProd[q] = (t_op * (1 - e_f) * FC * MK1_hv * CO2_fuel) / 1000 #Fuel production\n",
    "    f[0] += CO2_batteryProd[q] + CO2_engineProd[q] + CO2_electricMotorProd[q] + CO2_fuelProd[q]\n",
    "\n",
    "    return f #grams / day"
   ]
  },
  {
   "cell_type": "code",
   "execution_count": 132,
   "id": "5a9c5bbe",
   "metadata": {
    "scrolled": true
   },
   "outputs": [
    {
     "name": "stdout",
     "output_type": "stream",
     "text": [
      "Baseline Scenario emissions [kg / day]:\n",
      "GHGs: 1983.40171\n",
      "NOx: 10.57804\n",
      "SOx: 0.84507\n",
      "PM: 0.00634\n"
     ]
    }
   ],
   "source": [
    "#BASELINE\n",
    "t_op1 = 13\n",
    "t_op2 = 12.5\n",
    "t_op3 = 8\n",
    "\n",
    "e_f1 = 0.6154\n",
    "e_f2 = 0.5200\n",
    "e_f3 = 0\n",
    "\n",
    "ferry1 = emissionCalc(t_op1, e_f1, 3, 1650, 0)\n",
    "ferry2 = emissionCalc(t_op2, e_f2, 3, 1650, 1)\n",
    "ferry3 = emissionCalc(t_op3, e_f3, 2, 1650, 2) #returns grams / day\n",
    "ferry4 = [0,0,0,0]\n",
    "\n",
    "opPartBase = (ferry1[0] + ferry2[0] + ferry3[0]) / 1000  #kilograms / day, operational part of GHG emissions\n",
    "\n",
    "ferry1 = upstreamCalc(ferry1, 1260, 1260, kW_engine, t_op1, e_f1, 0) #returns grams / day\n",
    "ferry2 = upstreamCalc(ferry2, 1008, 1008, kW_engine, t_op2, e_f2, 1)\n",
    "ferry3 = upstreamCalc(ferry3, 0, 0, 2 * kW_engine, t_op3, e_f3, 2)\n",
    "ferry4 = upstreamCalc(ferry4, 0, 0, 2 * kW_engine, 0, 0, 3)\n",
    "\n",
    "print(\"Baseline Scenario emissions [kg / day]:\")\n",
    "BASE = summary4(ferry1,ferry2,ferry3,ferry4) #returns kilograms / day\n",
    "\n",
    "#Separate the results so that they can be visualized individually:\n",
    "base_d = CO2_diesel.sum() / 1000\n",
    "base_e = CO2_electricity.sum() / 1000\n",
    "base_b = CO2_batteryProd.sum() / 1000\n",
    "base_misc = (CO2_engineProd.sum() + CO2_electricMotorProd.sum() + CO2_fuelProd.sum()) / 1000"
   ]
  },
  {
   "cell_type": "code",
   "execution_count": 133,
   "id": "d8d56b7d",
   "metadata": {
    "scrolled": true
   },
   "outputs": [
    {
     "name": "stdout",
     "output_type": "stream",
     "text": [
      "Big Battery Scenario emissions [kg / day]:\n",
      "GHGs: 559.97735\n",
      "NOx: 0.00000\n",
      "SOx: 0.00000\n",
      "PM: 0.00000\n"
     ]
    }
   ],
   "source": [
    "#Big Battery\n",
    "t_op1 = 11\n",
    "t_op2 = 10.5\n",
    "t_op3 = 9\n",
    "t_op4 = 3\n",
    "\n",
    "e_f1 = 1\n",
    "e_f2 = 1\n",
    "e_f3 = 1\n",
    "e_f4 = 1\n",
    "\n",
    "ferry1 = emissionCalc(t_op1, e_f1, 3, 1650, 0)\n",
    "ferry2 = emissionCalc(t_op2, e_f2, 3, 1650, 1)\n",
    "ferry3 = emissionCalc(t_op3, e_f3, 3, 1650, 2)\n",
    "ferry4 = emissionCalc(t_op4, e_f4, 3, 1650, 3)\n",
    "\n",
    "opPartBB = (ferry1[0] + ferry2[0] + ferry3[0]) / 1000\n",
    "\n",
    "ferry1 = upstreamCalc(ferry1, 1260, 1260, kW_engine, 0, 0, 0)\n",
    "ferry2 = upstreamCalc(ferry2, 1260, 1260, kW_engine, 0, 0, 1)\n",
    "ferry3 = upstreamCalc(ferry3, 1260, 1260, kW_engine, 0, 0, 2)\n",
    "ferry4 = upstreamCalc(ferry4, 1008, 1008, kW_engine, 0, 0, 3)\n",
    "\n",
    "print(\"Big Battery Scenario emissions [kg / day]:\")\n",
    "BB = summary4(ferry1,ferry2,ferry3,ferry4)\n",
    "\n",
    "bb_d = CO2_diesel.sum() / 1000\n",
    "bb_e = CO2_electricity.sum() / 1000\n",
    "bb_b = CO2_batteryProd.sum() / 1000\n",
    "bb_misc = (CO2_engineProd.sum() + CO2_electricMotorProd.sum() + CO2_fuelProd.sum()) / 1000"
   ]
  },
  {
   "cell_type": "code",
   "execution_count": 134,
   "id": "262b8109",
   "metadata": {},
   "outputs": [
    {
     "name": "stdout",
     "output_type": "stream",
     "text": [
      "OBS Scenario emissions [kg / day]:\n",
      "GHGs: 390.33352\n",
      "NOx: 0.00000\n",
      "SOx: 0.00000\n",
      "PM: 0.00000\n"
     ]
    }
   ],
   "source": [
    "#Optimize Battery\n",
    "t_op1 = 8\n",
    "t_op2 = 8.5\n",
    "t_op3 = 9\n",
    "t_op4 = 8\n",
    "\n",
    "e_f1 = 1\n",
    "e_f2 = 1\n",
    "e_f3 = 1\n",
    "e_f4 = 1\n",
    "\n",
    "ferry1 = emissionCalc(t_op1, e_f1, 3, 1650, 0)\n",
    "ferry2 = emissionCalc(t_op2, e_f2, 3, 1650, 1)\n",
    "ferry3 = emissionCalc(t_op3, e_f3, 3, 1650, 2)\n",
    "ferry4 = emissionCalc(t_op4, e_f4, 3, 1650, 3)\n",
    "\n",
    "opPartOBS = (ferry1[0] + ferry2[0] + ferry3[0] + ferry4[0]) / 1000\n",
    "\n",
    "ferry1 = upstreamCalc(ferry1, 1260, 670, kW_engine, 0, 0, 0)\n",
    "ferry2 = upstreamCalc(ferry2, 1008, 670, kW_engine, 0, 0, 1)\n",
    "ferry3 = upstreamCalc(ferry3, 670, 670, kW_engine, 0, 0, 2)\n",
    "ferry4 = upstreamCalc(ferry4, 670, 670, kW_engine, 0, 0, 3)\n",
    "\n",
    "print(\"OBS Scenario emissions [kg / day]:\")\n",
    "OBS = summary4(ferry1,ferry2,ferry3,ferry4)\n",
    "\n",
    "obs_d = CO2_diesel.sum() / 1000\n",
    "obs_e = CO2_electricity.sum() / 1000\n",
    "obs_b = CO2_batteryProd.sum() / 1000\n",
    "obs_misc = (CO2_engineProd.sum() + CO2_electricMotorProd.sum() + CO2_fuelProd.sum()) / 1000"
   ]
  },
  {
   "cell_type": "code",
   "execution_count": 135,
   "id": "851f9456",
   "metadata": {},
   "outputs": [
    {
     "name": "stdout",
     "output_type": "stream",
     "text": [
      "Wireless Steady SoC [kg / day]:\n",
      "GHGs: 167.08749\n",
      "NOx: 0.00000\n",
      "SOx: 0.00000\n",
      "PM: 0.00000\n"
     ]
    }
   ],
   "source": [
    "#Wireless Steady SoC\n",
    "t_op1 = 8.375\n",
    "t_op2 = 8.375\n",
    "t_op3 = 8.375\n",
    "t_op4 = 8.375\n",
    "\n",
    "e_f1 = 1\n",
    "e_f2 = 1\n",
    "e_f3 = 1\n",
    "e_f4 = 1\n",
    "\n",
    "ferry1 = emissionCalc(t_op1, e_f1, 3, 1650, 0)\n",
    "ferry2 = emissionCalc(t_op2, e_f2, 3, 1650, 1)\n",
    "ferry3 = emissionCalc(t_op3, e_f3, 3, 1650, 2)\n",
    "ferry4 = emissionCalc(t_op4, e_f4, 3, 1650, 3)\n",
    "\n",
    "opPartWS = (ferry1[0] + ferry2[0] + ferry3[0]) / 1000\n",
    "\n",
    "ferry1 = upstreamCalc(ferry1, 130, 130, kW_engine, 0, 0, 0)\n",
    "ferry2 = upstreamCalc(ferry2, 130, 130, kW_engine, 0, 0, 1)\n",
    "ferry3 = upstreamCalc(ferry3, 130, 130, kW_engine, 0, 0, 2)\n",
    "ferry4 = upstreamCalc(ferry4, 130, 130, kW_engine, 0, 0, 3)\n",
    "\n",
    "print(\"Wireless Steady SoC [kg / day]:\")\n",
    "WS = summary4(ferry1,ferry2,ferry3,ferry4)\n",
    "\n",
    "ws_d = CO2_diesel.sum() / 1000\n",
    "ws_e = CO2_electricity.sum() / 1000\n",
    "ws_b = CO2_batteryProd.sum() / 1000\n",
    "ws_misc = (CO2_engineProd.sum() + CO2_electricMotorProd.sum() + CO2_fuelProd.sum()) / 1000"
   ]
  },
  {
   "cell_type": "code",
   "execution_count": 136,
   "id": "8aa5f48a",
   "metadata": {
    "scrolled": true
   },
   "outputs": [
    {
     "name": "stdout",
     "output_type": "stream",
     "text": [
      "Wireless Falling SoC [kg / day]:\n",
      "GHGs: 317.68913\n",
      "NOx: 0.00000\n",
      "SOx: 0.00000\n",
      "PM: 0.00000\n"
     ]
    }
   ],
   "source": [
    "#Wireless Falling SoC\n",
    "\n",
    "t_op1 = 8.375\n",
    "t_op2 = 8.375\n",
    "t_op3 = 8.375\n",
    "t_op4 = 8.375\n",
    "\n",
    "e_f1 = 1\n",
    "e_f2 = 1\n",
    "e_f3 = 1\n",
    "e_f4 = 1\n",
    "\n",
    "ferry1 = emissionCalc(t_op1, e_f1, 3, 1650, 0)\n",
    "ferry2 = emissionCalc(t_op2, e_f2, 3, 1650, 1)\n",
    "ferry3 = emissionCalc(t_op3, e_f3, 3, 1650, 2)\n",
    "ferry4 = emissionCalc(t_op4, e_f4, 3, 1650, 3)\n",
    "\n",
    "opPartWF = (ferry1[0] + ferry2[0] + ferry3[0]) / 1000\n",
    "\n",
    "ferry1 = upstreamCalc(ferry1, 539, 539, kW_engine, 0, 0, 0)\n",
    "ferry2 = upstreamCalc(ferry2, 539, 539, kW_engine, 0, 0, 1)\n",
    "ferry3 = upstreamCalc(ferry3, 539, 539, kW_engine, 0, 0, 2)\n",
    "ferry4 = upstreamCalc(ferry4, 539, 539, kW_engine, 0, 0, 3)\n",
    "\n",
    "print(\"Wireless Falling SoC [kg / day]:\")\n",
    "WF = summary4(ferry1,ferry2,ferry3,ferry4)\n",
    "\n",
    "wf_d = CO2_diesel.sum() / 1000\n",
    "wf_e = CO2_electricity.sum() / 1000\n",
    "wf_b = CO2_batteryProd.sum() / 1000\n",
    "wf_misc = (CO2_engineProd.sum() + CO2_electricMotorProd.sum() + CO2_fuelProd.sum()) / 1000\n"
   ]
  },
  {
   "cell_type": "code",
   "execution_count": 137,
   "id": "dd9b0c95",
   "metadata": {
    "scrolled": true
   },
   "outputs": [
    {
     "data": {
      "image/png": "[encoded data removed]",
      "text/plain": [
       "<Figure size 640x480 with 1 Axes>"
      ]
     },
     "metadata": {},
     "output_type": "display_data"
    }
   ],
   "source": [
    "#SUMMARY\n",
    "scenarios = (\n",
    "    \"Base\",\n",
    "    \"BB\",\n",
    "    \"OB\",\n",
    "    \"WS\",\n",
    "    \"WF\",\n",
    ")\n",
    "emissions = {\n",
    "    \"Diesel consumption\": np.array([base_d, bb_d, obs_d, ws_d, wf_d]),\n",
    "    \"Electricity production\": np.array([base_e, bb_e, obs_e, ws_e, wf_e]),\n",
    "    \"Battery production\": np.array([base_b, bb_b, obs_b, ws_b, wf_b]),\n",
    "    \"Misc. upstream emissions\": np.array([base_misc, bb_misc, obs_misc, ws_misc, wf_misc]),\n",
    "\n",
    "}\n",
    "\n",
    "totEm = [BASE[0], BB[0], OBS[0], WS[0], WF[0]]\n",
    "y_errormin = [totEm[0] - 1668, totEm[1] - 444, totEm[2] - 317, totEm[3] - 141, totEm[4] - 260] \n",
    "y_errormax = [2373 - totEm[0], 896 - totEm[1], 596 - totEm[2], 205 - totEm[3], 468 - totEm[4]]\n",
    "yerror = [y_errormin, y_errormax]\n",
    "width = 0.5\n",
    "\n",
    "fig, ax = plt.subplots()\n",
    "bottom = np.zeros(5)\n",
    "i=0\n",
    "for boolean, emissions in emissions.items():\n",
    "    \n",
    "    if i == 3:\n",
    "        p = ax.bar(scenarios, emissions, width, label=boolean, bottom=bottom, yerr=yerror, capsize=7)\n",
    "        bottom += emissions\n",
    "    else:\n",
    "        p = ax.bar(scenarios, emissions, width, label=boolean, bottom=bottom)\n",
    "        bottom += emissions\n",
    "        i += 1\n",
    "    \n",
    "ax.set_ylabel('Total cost (SEK / day)')\n",
    "ax.set_ylabel('GHG emissions per day (kg CO2 eq.)')\n",
    "ax.legend(loc=\"best\")\n",
    "plt.show()"
   ]
  },
  {
   "cell_type": "code",
   "execution_count": 138,
   "id": "08e70644",
   "metadata": {},
   "outputs": [
    {
     "name": "stdout",
     "output_type": "stream",
     "text": [
      "0.006338048283000001\n"
     ]
    },
    {
     "data": {
      "text/plain": [
       "<BarContainer object of 4 artists>"
      ]
     },
     "execution_count": 138,
     "metadata": {},
     "output_type": "execute_result"
    },
    {
     "data": {
      "image/png": "[encoded data removed]",
      "text/plain": [
       "<Figure size 640x480 with 1 Axes>"
      ]
     },
     "metadata": {},
     "output_type": "display_data"
    }
   ],
   "source": [
    "#BASELINE EMISSIONS\n",
    "\n",
    "fig, ax = plt.subplots()\n",
    "#ax = fig.add_axes([0,0,1,1])\n",
    "cases = ['GHGs (tCO2 eq./day)', 'NOx (kg/day)', 'SO2 (kg/day)', 'PM (g/day)']\n",
    "GHGs = [BASE[0] / 1000, BASE[1], BASE[2], BASE[3] * 1000]\n",
    "\n",
    "y_errormin = [(BASE[0] - 1707.987) / 1000, BASE[1] - 8.633, BASE[2] - 0.679, (BASE[3] - 0.00574) * 1000]\n",
    "y_errormax = [(2417.637 - BASE[0]) / 1000, 12.538 - BASE[1], 1.011 - BASE[2], (0.00854 - BASE[3]) * 1000]\n",
    "yerror = [y_errormin, y_errormax]\n",
    "\n",
    "\n",
    "print(BASE[3])\n",
    "#bar_labels = ['red', 'blue', 'blue', 'orange', 'green', 'green']\n",
    "#bar_colors = ['tab:red', (0.1, 1, 0.1, 1), (0, 1, 0, 1), 'tab:blue', (1, 0.9, 0, 1), (1, 0.9, 0, 1)]\n",
    "\n",
    "ax.bar(cases, GHGs, width=0.5, color='tab:grey', yerr=yerror, capsize=5)\n",
    "\n",
    "\n"
   ]
  },
  {
   "cell_type": "code",
   "execution_count": 139,
   "id": "3c7e344a",
   "metadata": {},
   "outputs": [
    {
     "data": {
      "text/plain": [
       "Text(0.5, 0, 'Scenario')"
      ]
     },
     "execution_count": 139,
     "metadata": {},
     "output_type": "execute_result"
    },
    {
     "data": {
      "image/png": "[encoded data removed]",
      "text/plain": [
       "<Figure size 640x480 with 1 Axes>"
      ]
     },
     "metadata": {},
     "output_type": "display_data"
    }
   ],
   "source": [
    "#EXTRA: Upstream emissions bar chart\n",
    "\n",
    "BASE_u = (BASE[0] - opPartBase) * (t_f * 365) #Multiply upstream emissions per day with amount of days during lifetime \n",
    "BB_u = (BB[0] - opPartBB) * (t_f * 365)\n",
    "OBS_u = (OBS[0] - opPartOBS) * (t_f * 365)\n",
    "WS_u = (WS[0] - opPartWS) * (t_f * 365)\n",
    "WF_u = (WF[0] - opPartWF) * (t_f * 365)\n",
    "fig, ax = plt.subplots()\n",
    "#ax = fig.add_axes([0,0,1,1])\n",
    "cases = ['Base', 'BB', 'OBS', 'WS', 'WF']\n",
    "GHGs = [BASE_u, BB_u, OBS_u, WS_u, WF_u]\n",
    "\n",
    "#bar_labels = ['red', 'blue', 'blue', 'orange', 'green', 'green']\n",
    "#bar_colors = ['tab:red', (0.1, 1, 0.1, 1), (0, 1, 0, 1), 'tab:blue', (1, 0.9, 0, 1), (1, 0.9, 0, 1)]\n",
    "ax.bar(cases, GHGs, color = 'tab:grey', width=0.5)\n",
    "ax.set_ylabel('Upstream emissions (kg CO2 eq.)')\n",
    "ax.set_xlabel('Scenario')\n"
   ]
  },
  {
   "cell_type": "code",
   "execution_count": null,
   "id": "8035a710",
   "metadata": {},
   "outputs": [],
   "source": []
  }
 ],
 "metadata": {
  "kernelspec": {
   "display_name": "Python 3 (ipykernel)",
   "language": "python",
   "name": "python3"
  },
  "language_info": {
   "codemirror_mode": {
    "name": "ipython",
    "version": 3
   },
   "file_extension": ".py",
   "mimetype": "text/x-python",
   "name": "python",
   "nbconvert_exporter": "python",
   "pygments_lexer": "ipython3",
   "version": "3.9.13"
  }
 },
 "nbformat": 4,
 "nbformat_minor": 5
}

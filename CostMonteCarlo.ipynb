{
 "cells": [
  {
   "cell_type": "code",
   "execution_count": 6,
   "id": "d0c3fb72",
   "metadata": {},
   "outputs": [
    {
     "name": "stdout",
     "output_type": "stream",
     "text": [
      "0.05742787103912777\n"
     ]
    }
   ],
   "source": [
    "#Data \n",
    "%matplotlib inline\n",
    "import random\n",
    "import numpy as np\n",
    "from matplotlib import pyplot as plt\n",
    "\n",
    "M = 10000 #Amount of iterations\n",
    "\n",
    "t_f = 25              #years       \n",
    "M_costDiesel = 800000 #SEK/year\n",
    "M_costHybrid = 700000 #SEK/year   \n",
    "D_cost = 9            #SEK/liter                   \n",
    "                    \n",
    "P_cons = np.random.triangular(80, 110, 140, M)     #kWh/hour\n",
    "D_cons = np.random.triangular(25, 35, 45, M)       #liter/hour\n",
    "t_b = np.random.triangular(8, 10, 12, M)           #years\n",
    "E_cost = np.random.triangular(1.30, 2, 2.45, M)    #SEK/kWh\n",
    "B_cost = np.random.triangular(2000, 4000, 6000, M) #SEK/kWh installed\n",
    "F_costDiesel = np.random.triangular(60 * pow(10,6), 62 * pow(10,6), 65 * pow(10,6), M) \n",
    "F_cost1260 = np.random.triangular(75 * pow(10,6), 77.5 * pow(10,6), 80 * pow(10,6), M)\n",
    "F_cost1008 = F_cost1260 - (252 * B_cost) #Elvy\n",
    "F_costRetrofit = np.random.triangular(20 * pow(10,6), 22.5 * pow(10,6), 25 * pow(10,6), M)\n",
    "P_cost = np.random.triangular(1000, 3000, 3000, M) #SEK/kW, plug-in charger\n",
    "W_cost = np.random.triangular(1600, 4500, 4500, M) #SEK/kw, wirelss charger\n",
    "\n",
    "#CRF\n",
    "i = 0.03\n",
    "n = t_f\n",
    "CRF = (i*pow(1+i,n))/(pow(1+i,n)-1)\n",
    "print(CRF)\n",
    "\n",
    "#Depreciation formula\n",
    "r = 0.073\n",
    "N = 10\n",
    "\n",
    "F_costNew130 = F_cost1260 + B_cost * (130 - 1260)\n",
    "F_costNew630 = F_cost1260 + B_cost * (630 - 1260)\n",
    "\n",
    "F_costRetrofit670 = np.zeros(M)\n",
    "F_costRetrofit1260 = np.zeros(M) \n",
    "                              \n",
    "for i in range(M):\n",
    "    F_costRetrofit670[i] = (F_costDiesel[i]*pow(1-r,N) + F_costRetrofit[i]) - (1260 * B_cost[i]) + (670 * B_cost[i])\n",
    "    F_costRetrofit1260[i] = (F_costDiesel[i]*pow(1-r,N) + F_costRetrofit[i]) - (1260 * B_cost[i]) + (1260 * B_cost[i])"
   ]
  },
  {
   "cell_type": "code",
   "execution_count": 7,
   "id": "41e77b04",
   "metadata": {},
   "outputs": [],
   "source": [
    "#Acquisition cost:\n",
    "def aCalc(F_cost1,F_cost2,F_cost3,F_cost4):\n",
    "    C_a1 = (F_cost1 * CRF) / 365\n",
    "    C_a2 = (F_cost2 * CRF) / 365\n",
    "    C_a3 = (F_cost3 * CRF) / 365\n",
    "    C_a4 = (F_cost4 * CRF) / 365\n",
    "    a = [C_a1, C_a2, C_a3, C_a4]\n",
    "    C_a = np.sum(a, axis=0)\n",
    "    return C_a\n",
    "#Infrastructure cost:\n",
    "def iCalc(P,W_s,W_f,P_char,W_char): #P = plug-in, W_s = stationary wireless, W_f = on-board wireless\n",
    "    C_i = (((P * P_char * P_cost) + (W_s * W_char * W_cost * 0.6) + (W_f * W_char * W_cost * 0.4)) * CRF) / 365\n",
    "    #print(C_i)\n",
    "    return C_i\n",
    "#Battery replacement cost:\n",
    "def rCalc(kw1,kw2,kw3,kw4):\n",
    "    C_r1 = (((t_f / t_b) * (B_cost * kw1)) * CRF) / 365\n",
    "    C_r2 = (((t_f / t_b) * (B_cost * kw2)) * CRF) / 365\n",
    "    C_r3 = (((t_f / t_b) * (B_cost * kw3)) * CRF) / 365\n",
    "    C_r4 = (((t_f / t_b) * (B_cost * kw4)) * CRF) / 365\n",
    "    r = [C_r1, C_r2, C_r3, C_r4]\n",
    "    C_r = np.sum(r, axis=0)\n",
    "    #print(C_r)\n",
    "    return C_r\n",
    "#Maintenance cost:\n",
    "def mCalc(M_cost1,M_cost2,M_cost3,M_cost4):\n",
    "    C_m1 = M_cost1 / 365\n",
    "    C_m2 = M_cost2 / 365\n",
    "    C_m3 = M_cost3 / 365\n",
    "    C_m4 = M_cost4 / 365\n",
    "    \n",
    "    m = C_m1 + C_m2 + C_m3 + C_m4\n",
    "    C_m = [m] * M\n",
    "    #print(C_m)\n",
    "    return C_m\n",
    "#Fuel cost:\n",
    "def fCalc(t_op1,t_op2,t_op3,t_op4,e_f1,e_f2,e_f3,e_f4):\n",
    "    C_f1 = (P_cons * E_cost * e_f1 * t_op1) + (D_cons * D_cost * (1-e_f1)*t_op1)\n",
    "    C_f2 = (P_cons * E_cost * e_f2 * t_op2) + (D_cons * D_cost * (1-e_f2)*t_op2)\n",
    "    C_f3 = (P_cons * E_cost * e_f3 * t_op3) + (D_cons * D_cost * (1-e_f3)*t_op3)\n",
    "    C_f4 = (P_cons * E_cost * e_f4 * t_op4) + (D_cons * D_cost * (1-e_f4)*t_op4)\n",
    "    f = [C_f1, C_f2, C_f3, C_f4]\n",
    "    C_f = np.sum(f, axis=0)\n",
    "    #print(C_f)\n",
    "    return C_f\n",
    "#Total cost:\n",
    "def totCalc(C_a,C_i,C_r,C_m,C_f):\n",
    "    x = [C_a, C_i, C_r, C_m, C_f]\n",
    "    C_tot = np.sum(x, axis=0)\n",
    "    #print(C_tot)\n",
    "    return C_tot\n",
    "#Operational costs:\n",
    "def opexCalc(C_tot,C_a,C_i):\n",
    "    #print(C_tot - (C_a + C_i))\n",
    "    return C_tot - (C_a + C_i)\n",
    "\n",
    "def summary(C_a,C_i,C_r,C_m,C_f,C_tot,C_opex):\n",
    "    print('COST SUMMARY [SEK / DAY]')\n",
    "    print('')\n",
    "    print('Acquisition cost: ' + str(C_a))\n",
    "    print('Infrastructure cost: ' + str(C_i))\n",
    "    print('Battery replacement cost: ' + str(C_r))\n",
    "    print('Maintenance cost: ' + str(C_m))\n",
    "    print('Fuel cost: ' + str(C_f))\n",
    "    print('Total scenario cost: ' +str(C_tot))\n",
    "    print('Total Opex: ' +str(C_opex))"
   ]
  },
  {
   "cell_type": "code",
   "execution_count": 8,
   "id": "80d87575",
   "metadata": {},
   "outputs": [
    {
     "name": "stdout",
     "output_type": "stream",
     "text": [
      "[62847.62717144 66941.75065406]\n"
     ]
    },
    {
     "data": {
      "image/png": "[encoded data removed]",
      "text/plain": [
       "<Figure size 640x480 with 1 Axes>"
      ]
     },
     "metadata": {},
     "output_type": "display_data"
    }
   ],
   "source": [
    "#BASELINE\n",
    "\n",
    "t_op1 = 13       #[hour], the range is 10-13 hours. 13 is max since the ferries run from 06:00 to 19:00\n",
    "t_op2 = 12.5\n",
    "t_op3 = 8 \n",
    "t_op4 = 0\n",
    "\n",
    "e_f1 = 0.6154\n",
    "e_f2 = 0.5200\n",
    "e_f3 = 0\n",
    "e_f4 = 0\n",
    "\n",
    "f1_kw = 1260\n",
    "f2_kw = 1008\n",
    "f3_kw = 0\n",
    "f4_kw = 0\n",
    "\n",
    "P = 2\n",
    "W_s = 0\n",
    "W_f = 0\n",
    "P_char = 200\n",
    "W_char = 0\n",
    "\n",
    "C_a = aCalc(F_cost1260,F_cost1008,F_costDiesel,F_costDiesel)\n",
    "C_i = iCalc(P,W_s,W_f,P_char,W_char)\n",
    "C_r = rCalc(f1_kw,f2_kw,f3_kw,f4_kw)\n",
    "C_m = mCalc(M_costHybrid,M_costHybrid,M_costDiesel,M_costDiesel)\n",
    "C_f = fCalc(t_op1,t_op2,t_op3,t_op4,e_f1,e_f2,e_f3,e_f4)\n",
    "C_tot = totCalc(C_a,C_i,C_r,C_m,C_f)\n",
    "\n",
    "plt.hist(C_tot, bins = 30, ec = 'black')\n",
    "p = np.percentile(C_tot, [5, 95])\n",
    "print(p)\n"
   ]
  },
  {
   "cell_type": "code",
   "execution_count": 9,
   "id": "b5294918",
   "metadata": {},
   "outputs": [
    {
     "name": "stdout",
     "output_type": "stream",
     "text": [
      "[59786.9663451  66657.24371092]\n"
     ]
    },
    {
     "data": {
      "image/png": "[encoded data removed]",
      "text/plain": [
       "<Figure size 640x480 with 1 Axes>"
      ]
     },
     "metadata": {},
     "output_type": "display_data"
    }
   ],
   "source": [
    "#BB\n",
    "\n",
    "t_op1 = 11     \n",
    "t_op2 = 10.5\n",
    "t_op3 = 9\n",
    "t_op4 = 3\n",
    "\n",
    "e_f1 = 1\n",
    "e_f2 = 1\n",
    "e_f3 = 1\n",
    "e_f4 = 1\n",
    "\n",
    "f1_kw = 1260\n",
    "f2_kw = 1008\n",
    "f3_kw = 1260\n",
    "f4_kw = 1260\n",
    "\n",
    "P = 4\n",
    "W_s = 0\n",
    "W_f = 0\n",
    "P_char = 200\n",
    "W_char = 0\n",
    "\n",
    "C_a = aCalc(F_cost1260,F_cost1008,F_costRetrofit1260,F_costRetrofit1260)\n",
    "C_i = iCalc(P,W_s,W_f,P_char,W_char)\n",
    "C_r = rCalc(f1_kw,f2_kw,f3_kw,f4_kw)\n",
    "C_m = mCalc(M_costHybrid,M_costHybrid,M_costHybrid,M_costHybrid)\n",
    "C_f = fCalc(t_op1,t_op2,t_op3,t_op4,e_f1,e_f2,e_f3,e_f4)\n",
    "C_tot = totCalc(C_a,C_i,C_r,C_m,C_f)\n",
    "\n",
    "plt.hist(C_tot, bins = 30, ec = 'black')\n",
    "p = np.percentile(C_tot, [5, 95])\n",
    "print(p)\n",
    "\n"
   ]
  },
  {
   "cell_type": "code",
   "execution_count": 10,
   "id": "e836cce6",
   "metadata": {},
   "outputs": [
    {
     "name": "stdout",
     "output_type": "stream",
     "text": [
      "[56671.01655725 61540.97660359]\n"
     ]
    },
    {
     "data": {
      "image/png": "[encoded data removed]",
      "text/plain": [
       "<Figure size 640x480 with 1 Axes>"
      ]
     },
     "metadata": {},
     "output_type": "display_data"
    }
   ],
   "source": [
    "#OBS\n",
    "\n",
    "t_op1 = 8       \n",
    "t_op2 = 8.5\n",
    "t_op3 = 9 \n",
    "t_op4 = 8\n",
    "\n",
    "e_f1 = 1\n",
    "e_f2 = 1\n",
    "e_f3 = 1\n",
    "e_f4 = 1\n",
    "\n",
    "f1_kw = 670\n",
    "f2_kw = 670\n",
    "f3_kw = 670\n",
    "f4_kw = 670\n",
    "\n",
    "P = 4\n",
    "W_s = 0\n",
    "W_f = 0\n",
    "P_char = 200\n",
    "W_char = 0\n",
    "\n",
    "C_a = aCalc(F_cost1260,F_cost1008,F_costRetrofit670,F_costRetrofit670)\n",
    "C_i = iCalc(P,W_s,W_f,P_char,W_char)\n",
    "C_r = rCalc(f1_kw,f2_kw,f3_kw,f4_kw)\n",
    "C_m = mCalc(M_costHybrid,M_costHybrid,M_costHybrid,M_costHybrid)\n",
    "C_f = fCalc(t_op1,t_op2,t_op3,t_op4,e_f1,e_f2,e_f3,e_f4)\n",
    "C_tot = totCalc(C_a,C_i,C_r,C_m,C_f)\n",
    "\n",
    "plt.hist(C_tot, bins = 30, ec = 'black')\n",
    "p = np.percentile(C_tot, [5, 95])\n",
    "print(p)\n"
   ]
  },
  {
   "cell_type": "code",
   "execution_count": 11,
   "id": "56b90abe",
   "metadata": {},
   "outputs": [
    {
     "name": "stdout",
     "output_type": "stream",
     "text": [
      "[60317.45748295 64942.32806496]\n"
     ]
    },
    {
     "data": {
      "image/png": "[encoded data removed]",
      "text/plain": [
       "<Figure size 640x480 with 1 Axes>"
      ]
     },
     "metadata": {},
     "output_type": "display_data"
    }
   ],
   "source": [
    "#WS\n",
    "\n",
    "t_op1 = 8.375       \n",
    "t_op2 = 8.375  \n",
    "t_op3 = 8.375  \n",
    "t_op4 = 8.375  \n",
    "\n",
    "e_f1 = 1\n",
    "e_f2 = 1\n",
    "e_f3 = 1\n",
    "e_f4 = 1\n",
    "\n",
    "f1_kw = 130\n",
    "f2_kw = 130\n",
    "f3_kw = 130\n",
    "f4_kw = 130\n",
    "\n",
    "S = 0\n",
    "W_s = 2\n",
    "W_f = 4\n",
    "P_char = 0\n",
    "W_char = 700\n",
    "\n",
    "C_a = aCalc(F_costNew130,F_costNew130,F_costNew130,F_costNew130)\n",
    "C_i = iCalc(S,W_s,W_f,P_char,W_char)\n",
    "C_r = rCalc(f1_kw,f2_kw,f3_kw,f4_kw)\n",
    "C_m = mCalc(M_costHybrid,M_costHybrid,M_costHybrid,M_costHybrid)\n",
    "C_f = fCalc(t_op1,t_op2,t_op3,t_op4,e_f1,e_f2,e_f3,e_f4)\n",
    "C_tot = totCalc(C_a,C_i,C_r,C_m,C_f)\n",
    "\n",
    "plt.hist(C_tot, bins = 30, ec = 'black')\n",
    "p = np.percentile(C_tot, [5, 95])\n",
    "print(p)\n"
   ]
  },
  {
   "cell_type": "code",
   "execution_count": 12,
   "id": "5da2c1db",
   "metadata": {},
   "outputs": [
    {
     "name": "stdout",
     "output_type": "stream",
     "text": [
      "[64329.17945657 69216.20044357]\n"
     ]
    },
    {
     "data": {
      "image/png": "[encoded data removed]",
      "text/plain": [
       "<Figure size 640x480 with 1 Axes>"
      ]
     },
     "metadata": {},
     "output_type": "display_data"
    }
   ],
   "source": [
    "#WF\n",
    "\n",
    "t_op1 = 8.375       \n",
    "t_op2 = 8.375  \n",
    "t_op3 = 8.375  \n",
    "t_op4 = 8.375  \n",
    "\n",
    "e_f1 = 1\n",
    "e_f2 = 1\n",
    "e_f3 = 1\n",
    "e_f4 = 1\n",
    "\n",
    "f1_kw = 630\n",
    "f2_kw = 630\n",
    "f3_kw = 630\n",
    "f4_kw = 630\n",
    "\n",
    "W_s470 = 2\n",
    "W_s50 = 4\n",
    "W_f = 4\n",
    "P_char = 0\n",
    "\n",
    "C_i = (((W_s470 * 470 * W_cost * 0.6) + (W_s50 * 50 * W_cost * 0.6) + (W_f * 470 * W_cost * 0.4)) * CRF) / 365\n",
    "\n",
    "C_a = aCalc(F_costNew630,F_costNew630,F_costNew630,F_costNew630)\n",
    "C_r = rCalc(f1_kw,f2_kw,f3_kw,f4_kw)\n",
    "C_m = mCalc(M_costHybrid,M_costHybrid,M_costHybrid,M_costHybrid)\n",
    "C_f = fCalc(t_op1,t_op2,t_op3,t_op4,e_f1,e_f2,e_f3,e_f4)\n",
    "C_tot = totCalc(C_a,C_i,C_r,C_m,C_f)\n",
    "\n",
    "plt.hist(C_tot, bins = 30, ec = 'black')\n",
    "p = np.percentile(C_tot, [5, 95])\n",
    "print(p)"
   ]
  },
  {
   "cell_type": "code",
   "execution_count": null,
   "id": "e4277f3a",
   "metadata": {},
   "outputs": [],
   "source": []
  }
 ],
 "metadata": {
  "kernelspec": {
   "display_name": "Python 3 (ipykernel)",
   "language": "python",
   "name": "python3"
  },
  "language_info": {
   "codemirror_mode": {
    "name": "ipython",
    "version": 3
   },
   "file_extension": ".py",
   "mimetype": "text/x-python",
   "name": "python",
   "nbconvert_exporter": "python",
   "pygments_lexer": "ipython3",
   "version": "3.9.13"
  }
 },
 "nbformat": 4,
 "nbformat_minor": 5
}
